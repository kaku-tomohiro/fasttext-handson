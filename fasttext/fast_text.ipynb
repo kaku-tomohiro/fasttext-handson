{
 "cells": [
  {
   "cell_type": "code",
   "execution_count": 1,
   "metadata": {},
   "outputs": [],
   "source": [
    "import gensim"
   ]
  },
  {
   "cell_type": "markdown",
   "metadata": {},
   "source": [
    "### アニメコーパスで学習した単語ベクトル"
   ]
  },
  {
   "cell_type": "code",
   "execution_count": 2,
   "metadata": {},
   "outputs": [],
   "source": [
    "model = gensim.models.KeyedVectors.load_word2vec_format('datasets/anime_corpus/model.vec', binary=False)"
   ]
  },
  {
   "cell_type": "code",
   "execution_count": 3,
   "metadata": {},
   "outputs": [
    {
     "name": "stderr",
     "output_type": "stream",
     "text": [
      "/usr/local/lib/python3.6/dist-packages/gensim/matutils.py:737: FutureWarning: Conversion of the second argument of issubdtype from `int` to `np.signedinteger` is deprecated. In future, it will be treated as `np.int64 == np.dtype(int).type`.\n",
      "  if np.issubdtype(vec.dtype, np.int):\n"
     ]
    },
    {
     "data": {
      "text/plain": [
       "[('やはり俺の青春ラブコメはまちがっている。', 0.5127686262130737),\n",
       " ('嘘つきみーくんと壊れたまーちゃん', 0.45215916633605957),\n",
       " ('櫻子さんの足下には死体が埋まっている', 0.44576495885849),\n",
       " ('幸村精市', 0.4394388198852539),\n",
       " ('関東地区', 0.4378630518913269),\n",
       " ('比企谷八幡', 0.435683012008667),\n",
       " ('ねじ巻き精霊戦記', 0.4356729984283447),\n",
       " ('岡崎市', 0.4345802366733551),\n",
       " ('乃木坂春香の秘密', 0.4319838285446167),\n",
       " ('乃木坂春香', 0.4306970238685608)]"
      ]
     },
     "execution_count": 3,
     "metadata": {},
     "output_type": "execute_result"
    }
   ],
   "source": [
    "model.most_similar(positive=['雪ノ下雪乃'], negative=['女'])"
   ]
  },
  {
   "cell_type": "markdown",
   "metadata": {},
   "source": [
    "### wikipediaコーパスで学習した単語ベクトル"
   ]
  },
  {
   "cell_type": "code",
   "execution_count": 4,
   "metadata": {},
   "outputs": [],
   "source": [
    "model = gensim.models.KeyedVectors.load_word2vec_format('datasets/ja_wiki_corpus/model.vec', binary=False)"
   ]
  },
  {
   "cell_type": "code",
   "execution_count": 5,
   "metadata": {},
   "outputs": [
    {
     "name": "stderr",
     "output_type": "stream",
     "text": [
      "/usr/local/lib/python3.6/dist-packages/gensim/matutils.py:737: FutureWarning: Conversion of the second argument of issubdtype from `int` to `np.signedinteger` is deprecated. In future, it will be treated as `np.int64 == np.dtype(int).type`.\n",
      "  if np.issubdtype(vec.dtype, np.int):\n"
     ]
    },
    {
     "data": {
      "text/plain": [
       "[('中国人', 0.7151615619659424),\n",
       " ('日系', 0.5991291999816895),\n",
       " ('外国', 0.5666396617889404),\n",
       " ('邦人', 0.5619238018989563),\n",
       " ('コリアン', 0.5443094968795776),\n",
       " ('華僑', 0.5377858877182007),\n",
       " ('在日', 0.5263140201568604),\n",
       " ('華人', 0.5200497508049011),\n",
       " ('在留', 0.5198684930801392),\n",
       " ('留学生', 0.5194666981697083)]"
      ]
     },
     "execution_count": 5,
     "metadata": {},
     "output_type": "execute_result"
    }
   ],
   "source": [
    "model.most_similar(positive=['日本人'])"
   ]
  }
 ],
 "metadata": {
  "kernelspec": {
   "display_name": "Python 3",
   "language": "python",
   "name": "python3"
  },
  "language_info": {
   "codemirror_mode": {
    "name": "ipython",
    "version": 3
   },
   "file_extension": ".py",
   "mimetype": "text/x-python",
   "name": "python",
   "nbconvert_exporter": "python",
   "pygments_lexer": "ipython3",
   "version": "3.6.6"
  }
 },
 "nbformat": 4,
 "nbformat_minor": 2
}
